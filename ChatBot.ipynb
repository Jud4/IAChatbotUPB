{
  "nbformat": 4,
  "nbformat_minor": 0,
  "metadata": {
    "colab": {
      "name": "ChatBot.ipynb",
      "provenance": [],
      "collapsed_sections": [],
      "include_colab_link": true
    },
    "kernelspec": {
      "name": "python3",
      "display_name": "Python 3"
    },
    "language_info": {
      "name": "python"
    }
  },
  "cells": [
    {
      "cell_type": "markdown",
      "metadata": {
        "id": "view-in-github",
        "colab_type": "text"
      },
      "source": [
        "<a href=\"https://colab.research.google.com/github/Jud4/IAChatbotUPB/blob/develop/ChatBot.ipynb\" target=\"_parent\"><img src=\"https://colab.research.google.com/assets/colab-badge.svg\" alt=\"Open In Colab\"/></a>"
      ]
    },
    {
      "cell_type": "code",
      "metadata": {
        "id": "x4gfz45_74AG",
        "colab": {
          "base_uri": "https://localhost:8080/"
        },
        "outputId": "dd430a78-8f1b-4754-c150-a5b37033e3e6"
      },
      "source": [
        "#Instalamos paquetes necesarios\n",
        "!pip install chatterbot"
      ],
      "execution_count": null,
      "outputs": [
        {
          "output_type": "stream",
          "text": [
            "Collecting chatterbot\n",
            "\u001b[?25l  Downloading https://files.pythonhosted.org/packages/7c/21/85c2b114bd9dfabdd46ba58fc4519acdaed45d8c70898d40079e37a45e67/ChatterBot-1.0.8-py2.py3-none-any.whl (63kB)\n",
            "\u001b[K     |████████████████████████████████| 71kB 2.8MB/s \n",
            "\u001b[?25hRequirement already satisfied: pytz in /usr/local/lib/python3.7/dist-packages (from chatterbot) (2018.9)\n",
            "Requirement already satisfied: python-dateutil<2.9,>=2.8 in /usr/local/lib/python3.7/dist-packages (from chatterbot) (2.8.1)\n",
            "Collecting sqlalchemy<1.4,>=1.3\n",
            "\u001b[?25l  Downloading https://files.pythonhosted.org/packages/31/44/a86070dda790ce94cd7d9fb9281cd614c7d30850ed774ace9a84d0d5d491/SQLAlchemy-1.3.24-cp37-cp37m-manylinux2010_x86_64.whl (1.3MB)\n",
            "\u001b[K     |████████████████████████████████| 1.3MB 4.9MB/s \n",
            "\u001b[?25hCollecting mathparse<0.2,>=0.1\n",
            "  Downloading https://files.pythonhosted.org/packages/c3/e5/4910fb85950cb960fcf3f5aabe1c8e55f5c9201788a1c1302b570a7e1f84/mathparse-0.1.2-py3-none-any.whl\n",
            "Requirement already satisfied: six>=1.5 in /usr/local/lib/python3.7/dist-packages (from python-dateutil<2.9,>=2.8->chatterbot) (1.15.0)\n",
            "Installing collected packages: sqlalchemy, mathparse, chatterbot\n",
            "  Found existing installation: SQLAlchemy 1.4.7\n",
            "    Uninstalling SQLAlchemy-1.4.7:\n",
            "      Successfully uninstalled SQLAlchemy-1.4.7\n",
            "Successfully installed chatterbot-1.0.8 mathparse-0.1.2 sqlalchemy-1.3.24\n"
          ],
          "name": "stdout"
        }
      ]
    },
    {
      "cell_type": "code",
      "metadata": {
        "id": "xzp7hANOud9u"
      },
      "source": [
        "# Importamos dependencias necesarias\n",
        "from chatterbot import ChatBot  # Clase general para crear un chatbot\n",
        "from chatterbot.trainers import ListTrainer # Usamos un list trainer para entrenar nuestro propios datasets en formato de lista\n",
        "from chatterbot.trainers import ChatterBotCorpusTrainer # Usamos un corpus para poder entrenar nuestro bot con datasets grandes y con conversaciones genericas\n",
        "from chatterbot.response_selection import get_first_response # Se usara esta libreria para elegir siempre la primera respuesta acorde a un input"
      ],
      "execution_count": null,
      "outputs": []
    },
    {
      "cell_type": "code",
      "metadata": {
        "id": "-Fs1Y-LOIUOe"
      },
      "source": [
        "# Creacion de dataset propio acorde a la propuesta\n",
        "\n",
        "basicConv = [\n",
        "  \"Hello there\",\n",
        "  \"Hi!! I am UPBot\",\n",
        "  \"What is your purpose\",\n",
        "  \"I am the chatbot from the UPB university and I am here to help you.\"         \n",
        "  ]"
      ],
      "execution_count": null,
      "outputs": []
    },
    {
      "cell_type": "code",
      "metadata": {
        "id": "74mgUh-0IujT"
      },
      "source": [
        "# Creamos el chat bot usando la clase generica ChatBot()\n",
        "chatbot = ChatBot(\n",
        "    \"UPBot\", # Nombre del chatbot\n",
        "    storage_adapter=\"chatterbot.storage.SQLStorageAdapter\", # Tipo de almacenamiento, usamos el normal ya que satisface el limite del proyecto\n",
        "    logic_adapters=[\n",
        "        'chatterbot.logic.MathematicalEvaluation', # Elegimos este tipo de adaptador para que el bot pueda responder a preguntas relacionadas con matematicas\n",
        "        #'chatterbot.logic.TimeLogicAdapter', # Elegimos este tipo de adaptador para que el bot pueda responder a preguntas relacionadas con el tiempo\n",
        "        'chatterbot.logic.BestMatch',  # Es necesario este adaptador para que se pueda elegir respuestas que sean un mejor match dado el input\n",
        "        'default_response': \"No entiendo lo que estas preguntando, reformula tu pregunta por favor\", # Utilizamos default response para dar una respuesta por defecto en caso de que los adapatadores logicos no encuentren un nivel de confidencia apropiado\n",
        "        'maximum_similarity_threshold': 0.90 #Limite de similaridad para con la respuesta a dar \n",
        "\n",
        "    ],\n",
        "    preprocessors=[ # Preprocesamos el input dado para que sea mas facil de encontrar una respuesta apropiada\n",
        "        'chatterbot.preprocessors.clean_whitespace', # Eliminamos los espacios en blancos\n",
        "        'chatterbot.preprocessors.convert_to_ascii' # Convertimos caracteres no comunes a ASCII\n",
        "    ],\n",
        "    response_selection_method=get_first_response) # Obtener la primera respuesta"
      ],
      "execution_count": null,
      "outputs": []
    },
    {
      "cell_type": "code",
      "metadata": {
        "id": "gSRbpZiqI7rN"
      },
      "source": [
        "### FASE DE ENTRENAMIENTO CON CORPUS DATA ###\n",
        "\n",
        "# Entrenamos el chatbot con corpus data para que pueda dar respuestas genericas pero racionales\n",
        "corpus_trainer = ChatterBotCorpusTrainer(chatbot)\n",
        "corpus_trainer.train(\"spanish\") # Usamos data en espanol"
      ],
      "execution_count": null,
      "outputs": []
    }
  ]
}