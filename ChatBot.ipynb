{
  "nbformat": 4,
  "nbformat_minor": 0,
  "metadata": {
    "colab": {
      "name": "ChatBot.ipynb",
      "provenance": [],
      "collapsed_sections": [],
      "include_colab_link": true
    },
    "kernelspec": {
      "name": "python3",
      "display_name": "Python 3"
    },
    "language_info": {
      "name": "python"
    }
  },
  "cells": [
    {
      "cell_type": "markdown",
      "metadata": {
        "id": "view-in-github",
        "colab_type": "text"
      },
      "source": [
        "<a href=\"https://colab.research.google.com/github/Jud4/IAChatbotUPB/blob/develop/ChatBot.ipynb\" target=\"_parent\"><img src=\"https://colab.research.google.com/assets/colab-badge.svg\" alt=\"Open In Colab\"/></a>"
      ]
    },
    {
      "cell_type": "code",
      "metadata": {
        "id": "epdchgbExjr3"
      },
      "source": [
        "from google.colab import drive\n",
        "drive.mount('/content/drive')"
      ],
      "execution_count": null,
      "outputs": []
    },
    {
      "cell_type": "code",
      "metadata": {
        "id": "x4gfz45_74AG",
        "colab": {
          "base_uri": "https://localhost:8080/"
        },
        "outputId": "023d7ece-057c-4bfe-debe-8865819708c3"
      },
      "source": [
        "#Instalamos paquetes necesarios\n",
        "!pip install chatterbot"
      ],
      "execution_count": null,
      "outputs": [
        {
          "output_type": "stream",
          "text": [
            "Collecting chatterbot\n",
            "\u001b[?25l  Downloading https://files.pythonhosted.org/packages/7c/21/85c2b114bd9dfabdd46ba58fc4519acdaed45d8c70898d40079e37a45e67/ChatterBot-1.0.8-py2.py3-none-any.whl (63kB)\n",
            "\r\u001b[K     |█████▏                          | 10kB 15.9MB/s eta 0:00:01\r\u001b[K     |██████████▎                     | 20kB 13.9MB/s eta 0:00:01\r\u001b[K     |███████████████▌                | 30kB 9.7MB/s eta 0:00:01\r\u001b[K     |████████████████████▋           | 40kB 8.3MB/s eta 0:00:01\r\u001b[K     |█████████████████████████▊      | 51kB 5.6MB/s eta 0:00:01\r\u001b[K     |███████████████████████████████ | 61kB 6.2MB/s eta 0:00:01\r\u001b[K     |████████████████████████████████| 71kB 4.3MB/s \n",
            "\u001b[?25hRequirement already satisfied: python-dateutil<2.9,>=2.8 in /usr/local/lib/python3.7/dist-packages (from chatterbot) (2.8.1)\n",
            "Requirement already satisfied: pytz in /usr/local/lib/python3.7/dist-packages (from chatterbot) (2018.9)\n",
            "Collecting sqlalchemy<1.4,>=1.3\n",
            "\u001b[?25l  Downloading https://files.pythonhosted.org/packages/31/44/a86070dda790ce94cd7d9fb9281cd614c7d30850ed774ace9a84d0d5d491/SQLAlchemy-1.3.24-cp37-cp37m-manylinux2010_x86_64.whl (1.3MB)\n",
            "\u001b[K     |████████████████████████████████| 1.3MB 7.6MB/s \n",
            "\u001b[?25hCollecting mathparse<0.2,>=0.1\n",
            "  Downloading https://files.pythonhosted.org/packages/c3/e5/4910fb85950cb960fcf3f5aabe1c8e55f5c9201788a1c1302b570a7e1f84/mathparse-0.1.2-py3-none-any.whl\n",
            "Requirement already satisfied: six>=1.5 in /usr/local/lib/python3.7/dist-packages (from python-dateutil<2.9,>=2.8->chatterbot) (1.15.0)\n",
            "Installing collected packages: sqlalchemy, mathparse, chatterbot\n",
            "  Found existing installation: SQLAlchemy 1.4.14\n",
            "    Uninstalling SQLAlchemy-1.4.14:\n",
            "      Successfully uninstalled SQLAlchemy-1.4.14\n",
            "Successfully installed chatterbot-1.0.8 mathparse-0.1.2 sqlalchemy-1.3.24\n"
          ],
          "name": "stdout"
        }
      ]
    },
    {
      "cell_type": "code",
      "metadata": {
        "id": "xzp7hANOud9u"
      },
      "source": [
        "# Importamos dependencias necesarias\n",
        "from chatterbot import ChatBot  # Clase general para crear un chatbot\n",
        "from chatterbot.trainers import ListTrainer # Usamos un list trainer para entrenar nuestro propios datasets en formato de lista\n",
        "from chatterbot.trainers import ChatterBotCorpusTrainer # Usamos un corpus para poder entrenar nuestro bot con datasets grandes y con conversaciones genericas\n",
        "from chatterbot.response_selection import get_first_response # Se usara esta libreria para elegir siempre la primera respuesta acorde a un input"
      ],
      "execution_count": null,
      "outputs": []
    },
    {
      "cell_type": "code",
      "metadata": {
        "id": "Y3-9t74J6zby"
      },
      "source": [
        "# Creacion de dataset propio acorde a la propuesta \n",
        "# Evitar los Si y No \n",
        "\n",
        "#Preguntas frecuentes\n",
        "set_ASKS_base = [\n",
        "            '¿Qué carreras tiene la universidad?',\n",
        "            'Las carreras universitarias son: Administración de Empresas\\nComunicación\\nDerecho\\nDiseño Gráfico\\nEconomía\\nIng. Comercial\\nIng. Financiera\\nMarketing y Logística\\nPsicología Organizacional\\nArquitectura\\nIng. Civil\\nIng. De la Producción\\nIng. Electromecánica\\nIng. De Sistemas Electrónicos y de Telecomunicaciones\\nIng. Industrial y de Sistemas\\nIng. Petrolera y Gas Natural\\nIng. De Sistemas Computacionales\\nIng. Del Medio Ambiente y Energías Alternativas\\n',\n",
        "            '¿Cuales son las carreras?',\n",
        "            'Las carreras universitarias son: Administración de Empresas\\nComunicación\\nDerecho\\nDiseño Gráfico\\nEconomía\\nIng. Comercial\\nIng. Financiera\\nMarketing y Logística\\nPsicología Organizacional\\nArquitectura\\nIng. Civil\\nIng. De la Producción\\nIng. Electromecánica\\nIng. De Sistemas Electrónicos y de Telecomunicaciones\\nIng. Industrial y de Sistemas\\nIng. Petrolera y Gas Natural\\nIng. De Sistemas Computacionales\\nIng. Del Medio Ambiente y Energías Alternativas\\n',\n",
        "            '¿Que carreras universitarias hay?',\n",
        "            'Las carreras universitarias son: Administración de Empresas\\nComunicación\\nDerecho\\nDiseño Gráfico\\nEconomía\\nIng. Comercial\\nIng. Financiera\\nMarketing y Logística\\nPsicología Organizacional\\nArquitectura\\nIng. Civil\\nIng. De la Producción\\nIng. Electromecánica\\nIng. De Sistemas Electrónicos y de Telecomunicaciones\\nIng. Industrial y de Sistemas\\nIng. Petrolera y Gas Natural\\nIng. De Sistemas Computacionales\\nIng. Del Medio Ambiente y Energías Alternativas\\n',\n",
        "            '¿Cuánto cuesta la mensualidad?',\n",
        "            'Los pagos se dividen en dos partes:\\nMatrícula: 2184 bs\\nColegiatura: Se realizan cinco pagos de 3072 bs aproximadamente',\n",
        "            '¿Cuánto es el monto de la mensualidad?',\n",
        "            'Los pagos se dividen en dos partes:\\nMatrícula: 2184 bs\\nColegiatura: Se realizan cinco pagos de 3072 bs aproximadamente',\n",
        "            '¿Cuánto es la colegiatura?',\n",
        "            'Los pagos se dividen en dos partes:\\nMatrícula: 2184 bs\\nColegiatura: Se realizan cinco pagos de 3072 bs aproximadamente',\n",
        "            '¿El pre universitario es obligatorio?',\n",
        "            'El preuniversitario es obligatorio, debes hacerlo porque te permite nivelarte para pasar materias de semestre',\n",
        "            '¿El pre universitario es necesario?',\n",
        "            'El preuniversitario es obligatorio, debes hacerlo porque te permite nivelarte para pasar materias de semestre',\n",
        "            '¿Qué preuniversitarios hay?',\n",
        "            'Depende de tu carrera. Tenemos los pre universitarios de:\\nMatemáticas\\nFísica\\nQuímica\\nTaller de Creatividad\\nTaller de Lenguaje\\nTaller de la Conducta Humana',\n",
        "            '¿Cuales son los preuniversitarios?',\n",
        "            'Depende de tu carrera. Tenemos los pre universitarios de:\\nMatemáticas\\nFísica\\nQuímica\\nTaller de Creatividad\\nTaller de Lenguaje\\nTaller de la Conducta Humana',\n",
        "            '¿Cuánto cuestan los preuniversitarios?',\n",
        "            'Los preuniversitarios cuestan: Matemáticas: 640 bs\\nFísica: 320 bs\\nQuímica: 320 bs\\nTaller de Creatividad: 320 bs\\nTaller de Lenguaje: 320 bs\\nTaller de la Conducta Humana: 320 bs',\n",
        "            '¿Cuánto se debe pagar por los preuniversitarios?',\n",
        "            'Los preuniversitarios cuestan: Matemáticas: 640 bs\\nFísica: 320 bs\\nQuímica: 320 bs\\nTaller de Creatividad: 320 bs\\nTaller de Lenguaje: 320 bs\\nTaller de la Conducta Humana: 320 bs',\n",
        "            '¿Tienen programas de becas?',\n",
        "            'Tenemos diferentes programas de beca a los que puedes postular.',\n",
        "            '¿Como funcionan las becas?',\n",
        "            'Tenemos diferentes programas de beca a los que puedes postular.',\n",
        "            '¿Qué es la PAA?',\n",
        "            'PAA es el examen de admisión que mide tres áreas:\\nRazonamiento Verbal\\nRazonamiento Matemático\\nRedacción Indirecta',\n",
        "            '¿En que consiste el PAA?',\n",
        "            'PAA es el examen de admisión que mide tres áreas:\\nRazonamiento Verbal\\nRazonamiento Matemático\\nRedacción Indirecta',\n",
        "            '¿Cuál es el puntaje que debo obtener en el examen PAA?',\n",
        "            'El puntaje mínimo en el PAA es de 1050/1600 puntos para ser admitido en la universidad',\n",
        "            '¿Cuál es el puntaje para aprobar el PAA?',\n",
        "            'El puntaje mínimo en el PAA es de 1050/1600 puntos para ser admitido en la universidad',\n",
        "            '¿Que puntaje necesito en el PAA?',\n",
        "            'El puntaje mínimo en el PAA es de 1050/1600 puntos para ser admitido en la universidad',\n",
        "            '¿Cuánto cuesta el PAA?',\n",
        "            'El PAA cuesta 120 bs',\n",
        "            '¿Cuánto es el monto de el PAA?',\n",
        "            'El PAA cuesta 120 bs',\n",
        "            '¿Tienen programas de intercambio?',\n",
        "            'Tenemos diferentes programas de intercambio con más de 300 universidades en el mundo',\n",
        "            '¿Como funcionan los intercambios?',\n",
        "            'Tenemos diferentes programas de intercambio con más de 300 universidades en el mundo',\n",
        "            '¿Cuándo inician las inscripciones?',\n",
        "            'Gracias al sistema modular, la UPB inicia inscripciones cada mes',\n",
        "            '¿Como funcionan las inscripciones?',\n",
        "            'Gracias al sistema modular, la UPB inicia inscripciones cada mes',\n",
        "            '¿Dónde está ubicado el campus?',\n",
        "            'El campus en Cochabamba se encuentra por la avenida Victor Ustariz',\n",
        "            '¿Dónde está el campus?',\n",
        "            'El campus en Cochabamba se encuentra por la avenida Victor Ustariz',\n",
        "            '¿Cuentan con servicio de transporte?',\n",
        "            'El servicio esta disponible en diferentes rutas que abarcan las diferentes zonas de Cochabamba',\n",
        "            '¿Tienen transporte?',\n",
        "            'El servicio esta disponible en diferentes rutas que abarcan las diferentes zonas de Cochabamba',\n",
        "]\n",
        "\n"
      ],
      "execution_count": null,
      "outputs": []
    },
    {
      "cell_type": "code",
      "metadata": {
        "id": "-Fs1Y-LOIUOe"
      },
      "source": [
        "# Creacion de dataset propio acorde a la propuesta \n",
        "\n",
        "#Preguntas frecuentes\n",
        "set_ASKS_base2 = [ \n",
        "                'Cuando dar de baja una materia ? ',\n",
        "                'Cuando un estudiante observa que está académicamente imposibilitado de concluir satisfactoriamente una materia',\n",
        "                'Deberia dar de baja una materia ? ',\n",
        "                'Deberia un estudiante observa que está académicamente imposibilitado de concluir satisfactoriamente una materia',\n",
        "                'porque daria de baja una materia ? ',\n",
        "                'porque un estudiante observa que está académicamente imposibilitado de concluir satisfactoriamente una materia',\n",
        "                'hasta cuado puedo dar de baja?',\n",
        "                'La solicitud debe ser presentada hasta 48 horas antes de la fecha de finalización de la materia.',\n",
        "                'Cuando puedo solicitar dar de baja?',\n",
        "                'La solicitud debe ser presentada hasta 48 horas antes de la fecha de finalización de la materia.',\n",
        "                'Debo pagar la totalidad de creditos de la materia al dar de baja?',\n",
        "                'Se debe pagar la totalidad de los créditos de la materia.',\n",
        "                'Se paga para dar de baja ? ',\n",
        "                'Se debe pagar la totalidad de los créditos de la materia.',\n",
        "                'Cómo dar de baja una materia ?',\n",
        "                'Puedes conversar con tu jefe de carrera o entrar a sistemas upb, ingresar a  Trámites estudiantiles, dar de baja y seleccionar materia',\n",
        "                'Cómo puedo dar de baja una materia ?',\n",
        "                'Puedes conversar con tu jefe de carrera o entrar a sistemas upb, ingresar a  Trámites estudiantiles, dar de baja y seleccionar materia']"
      ],
      "execution_count": null,
      "outputs": []
    },
    {
      "cell_type": "code",
      "metadata": {
        "id": "74mgUh-0IujT"
      },
      "source": [
        "# Creamos el chat bot usando la clase generica ChatBot()\n",
        "chatbot = ChatBot(\n",
        "    \"UPBot\", # Nombre del chatbot\n",
        "    # Tipo de almacenamiento, usamos el normal ya que satisface el limite del proyecto\n",
        "    storage_adapter=\"chatterbot.storage.SQLStorageAdapter\", \n",
        "    logic_adapters=[\n",
        "        {\n",
        "            # Es necesario este adaptador para que se pueda elegir respuestas que sean un mejor match dado el input\n",
        "            'import_path': 'chatterbot.logic.BestMatch',  \n",
        "            # Utilizamos default response para dar una respuesta por defecto en caso de que los adapatadores logicos \n",
        "            # no encuentren un nivel de confidencia apropiado\n",
        "            'default_response': 'No entiendo lo que estas preguntando, reformula tu pregunta por favor', \n",
        "            # Limite de similaridad para con la respuesta a dar \n",
        "            'maximum_similarity_threshold': 0.90\n",
        "        }\n",
        "    ],\n",
        "    # Preprocesamos el input dado para que sea mas facil de encontrar una respuesta apropiada\n",
        "    preprocessors=[ \n",
        "        'chatterbot.preprocessors.clean_whitespace', # Eliminamos los espacios en blancos\n",
        "        'chatterbot.preprocessors.convert_to_ascii' # Convertimos caracteres no comunes a ASCII\n",
        "    ],\n",
        "    response_selection = get_first_response)"
      ],
      "execution_count": null,
      "outputs": []
    },
    {
      "cell_type": "code",
      "metadata": {
        "id": "gSRbpZiqI7rN",
        "colab": {
          "base_uri": "https://localhost:8080/"
        },
        "outputId": "f8f12127-fc4d-4e05-b0a8-95b27904df84"
      },
      "source": [
        "### FASE DE ENTRENAMIENTO CON CORPUS DATA ###\n",
        "\n",
        "# Entrenamos el chatbot con corpus data para que pueda dar respuestas genericas pero racionales\n",
        "corpus_trainer = ChatterBotCorpusTrainer(chatbot)\n",
        "corpus_trainer.train(\"spanish\") # Usamos data en espanol"
      ],
      "execution_count": null,
      "outputs": [
        {
          "output_type": "stream",
          "text": [
            "Training IA.yml: [####################] 100%\n",
            "Training conversations.yml: [####################] 100%\n",
            "Training greetings.yml: [####################] 100%\n",
            "Training psicologia.yml: [####################] 100%\n"
          ],
          "name": "stdout"
        }
      ]
    },
    {
      "cell_type": "code",
      "metadata": {
        "id": "d4Cd2X2gJTAp",
        "colab": {
          "base_uri": "https://localhost:8080/"
        },
        "outputId": "58c76f0c-35bd-42e7-d521-b7c34548717d"
      },
      "source": [
        "### FASE DE ENTRENAMIENTO CON DATASETS PROPIOS ###\n",
        "trainer = ListTrainer(chatbot)\n",
        "\n",
        "# Entrenamos nuestro datasets\n",
        "trainer.train(set_ASKS_base)\n",
        "trainer.train(set_ASKS_base2)"
      ],
      "execution_count": null,
      "outputs": [
        {
          "output_type": "stream",
          "text": [
            "List Trainer: [####################] 100%\n",
            "List Trainer: [####################] 100%\n"
          ],
          "name": "stdout"
        }
      ]
    },
    {
      "cell_type": "code",
      "metadata": {
        "id": "OY5XBuOfJcl1",
        "colab": {
          "base_uri": "https://localhost:8080/"
        },
        "outputId": "01153402-7930-4626-d2ee-1d796457b087"
      },
      "source": [
        "# Realizamos una interfaz para que el usario pueda preguntar.\n",
        "print(\"Si quieres cortar la conversacion escribe 's' \\n\\n\")\n",
        "print(\"Habla a UPBot\")\n",
        "while (True):\n",
        "      \n",
        "    user_input = input()\n",
        "    if (user_input == 's'):\n",
        "        break\n",
        "    response = chatbot.get_response(user_input)\n",
        "    print (\"UPBot:\" , response)"
      ],
      "execution_count": null,
      "outputs": [
        {
          "output_type": "stream",
          "text": [
            "Si quieres cortar la conversacion escribe 'salir' \n",
            "\n",
            "\n",
            "Habla a UPBot\n",
            "Hola\n",
            "UPBot: Hola\n",
            "Que es la PAA\n",
            "UPBot: PAA es el examen de admision que mide tres areas: Razonamiento Verbal Razonamiento Matematico Redaccion Indirecta\n",
            "Que carreras universitarias hay\n",
            "UPBot: Las carreras universitarias son: Administracion de Empresas Comunicacion Derecho Diseno Grafico Economia Ing. Comercial Ing. Financiera Marketing y Logistica Psicologia Organizacional Arquitectura Ing. Civil Ing. De la Produccion Ing. Electromecanica Ing. De Sistemas Electronicos y de Telecomunicaciones Ing. Industrial y de Sistemas Ing. Petrolera y Gas Natural Ing. De Sistemas Computacionales Ing. Del Medio Ambiente y Energias Alternativas\n",
            "Cuanto cuesta el PAA\n",
            "UPBot: El PAA cuesta 120 bs\n",
            "salir\n",
            "UPBot: No entiendo lo que estas preguntando, reformula tu pregunta por favor\n"
          ],
          "name": "stdout"
        }
      ]
    },
    {
      "cell_type": "code",
      "metadata": {
        "id": "u1DQpeQwOKjo"
      },
      "source": [
        ""
      ],
      "execution_count": null,
      "outputs": []
    }
  ]
}