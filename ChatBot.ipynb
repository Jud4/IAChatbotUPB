{
  "nbformat": 4,
  "nbformat_minor": 0,
  "metadata": {
    "colab": {
      "name": "ChatBot.ipynb",
      "provenance": [],
      "collapsed_sections": [],
      "include_colab_link": true
    },
    "kernelspec": {
      "name": "python3",
      "display_name": "Python 3"
    },
    "language_info": {
      "name": "python"
    }
  },
  "cells": [
    {
      "cell_type": "markdown",
      "metadata": {
        "id": "view-in-github",
        "colab_type": "text"
      },
      "source": [
        "<a href=\"https://colab.research.google.com/github/Jud4/IAChatbotUPB/blob/develop/ChatBot.ipynb\" target=\"_parent\"><img src=\"https://colab.research.google.com/assets/colab-badge.svg\" alt=\"Open In Colab\"/></a>"
      ]
    },
    {
      "cell_type": "code",
      "metadata": {
        "id": "epdchgbExjr3"
      },
      "source": [
        "from google.colab import drive\n",
        "drive.mount('/content/drive')"
      ],
      "execution_count": null,
      "outputs": []
    },
    {
      "cell_type": "code",
      "metadata": {
        "id": "x4gfz45_74AG",
        "colab": {
          "base_uri": "https://localhost:8080/"
        },
        "outputId": "cc803eae-49b7-4257-cf6d-0a13828128fa"
      },
      "source": [
        "#Instalamos paquetes necesarios\n",
        "!pip install chatterbot"
      ],
      "execution_count": 2,
      "outputs": [
        {
          "output_type": "stream",
          "text": [
            "Collecting chatterbot\n",
            "\u001b[?25l  Downloading https://files.pythonhosted.org/packages/7c/21/85c2b114bd9dfabdd46ba58fc4519acdaed45d8c70898d40079e37a45e67/ChatterBot-1.0.8-py2.py3-none-any.whl (63kB)\n",
            "\r\u001b[K     |█████▏                          | 10kB 15.0MB/s eta 0:00:01\r\u001b[K     |██████████▎                     | 20kB 13.8MB/s eta 0:00:01\r\u001b[K     |███████████████▌                | 30kB 10.5MB/s eta 0:00:01\r\u001b[K     |████████████████████▋           | 40kB 9.1MB/s eta 0:00:01\r\u001b[K     |█████████████████████████▊      | 51kB 5.0MB/s eta 0:00:01\r\u001b[K     |███████████████████████████████ | 61kB 5.6MB/s eta 0:00:01\r\u001b[K     |████████████████████████████████| 71kB 3.6MB/s \n",
            "\u001b[?25hRequirement already satisfied: pytz in /usr/local/lib/python3.7/dist-packages (from chatterbot) (2018.9)\n",
            "Collecting mathparse<0.2,>=0.1\n",
            "  Downloading https://files.pythonhosted.org/packages/c3/e5/4910fb85950cb960fcf3f5aabe1c8e55f5c9201788a1c1302b570a7e1f84/mathparse-0.1.2-py3-none-any.whl\n",
            "Requirement already satisfied: python-dateutil<2.9,>=2.8 in /usr/local/lib/python3.7/dist-packages (from chatterbot) (2.8.1)\n",
            "Collecting sqlalchemy<1.4,>=1.3\n",
            "\u001b[?25l  Downloading https://files.pythonhosted.org/packages/31/44/a86070dda790ce94cd7d9fb9281cd614c7d30850ed774ace9a84d0d5d491/SQLAlchemy-1.3.24-cp37-cp37m-manylinux2010_x86_64.whl (1.3MB)\n",
            "\u001b[K     |████████████████████████████████| 1.3MB 7.6MB/s \n",
            "\u001b[?25hRequirement already satisfied: six>=1.5 in /usr/local/lib/python3.7/dist-packages (from python-dateutil<2.9,>=2.8->chatterbot) (1.15.0)\n",
            "Installing collected packages: mathparse, sqlalchemy, chatterbot\n",
            "  Found existing installation: SQLAlchemy 1.4.7\n",
            "    Uninstalling SQLAlchemy-1.4.7:\n",
            "      Successfully uninstalled SQLAlchemy-1.4.7\n",
            "Successfully installed chatterbot-1.0.8 mathparse-0.1.2 sqlalchemy-1.3.24\n"
          ],
          "name": "stdout"
        }
      ]
    },
    {
      "cell_type": "code",
      "metadata": {
        "id": "xzp7hANOud9u"
      },
      "source": [
        "# Importamos dependencias necesarias\n",
        "from chatterbot import ChatBot  # Clase general para crear un chatbot\n",
        "from chatterbot.trainers import ListTrainer # Usamos un list trainer para entrenar nuestro propios datasets en formato de lista\n",
        "from chatterbot.trainers import ChatterBotCorpusTrainer # Usamos un corpus para poder entrenar nuestro bot con datasets grandes y con conversaciones genericas\n",
        "from chatterbot.response_selection import get_first_response # Se usara esta libreria para elegir siempre la primera respuesta acorde a un input"
      ],
      "execution_count": 3,
      "outputs": []
    },
    {
      "cell_type": "code",
      "metadata": {
        "id": "-Fs1Y-LOIUOe"
      },
      "source": [
        ""
      ],
      "execution_count": null,
      "outputs": []
    },
    {
      "cell_type": "code",
      "metadata": {
        "id": "Y3-9t74J6zby"
      },
      "source": [
        "# Creacion de dataset propio acorde a la propuesta\n",
        "\n",
        "#Preguntas frecuentes\n",
        "set_ASKS_base = [\n",
        "            '¿Qué carreras tiene la universidad?',\n",
        "            'Las carreras universitarias son: Administración de Empresas\\nComunicación\\nDerecho\\nDiseño Gráfico\\nEconomía\\nIng. Comercial\\nIng. Financiera\\nMarketing y Logística\\nPsicología Organizacional\\nArquitectura\\nIng. Civil\\nIng. De la Producción\\nIng. Electromecánica\\nIng. De Sistemas Electrónicos y de Telecomunicaciones\\nIng. Industrial y de Sistemas\\nIng. Petrolera y Gas Natural\\nIng. De Sistemas Computacionales\\nIng. Del Medio Ambiente y Energías Alternativas\\n',\n",
        "            '¿Cuales son las carreras?',\n",
        "            'Las carreras universitarias son: Administración de Empresas\\nComunicación\\nDerecho\\nDiseño Gráfico\\nEconomía\\nIng. Comercial\\nIng. Financiera\\nMarketing y Logística\\nPsicología Organizacional\\nArquitectura\\nIng. Civil\\nIng. De la Producción\\nIng. Electromecánica\\nIng. De Sistemas Electrónicos y de Telecomunicaciones\\nIng. Industrial y de Sistemas\\nIng. Petrolera y Gas Natural\\nIng. De Sistemas Computacionales\\nIng. Del Medio Ambiente y Energías Alternativas\\n',\n",
        "            '¿Que carreras universitarias hay?',\n",
        "            'Las carreras universitarias son: Administración de Empresas\\nComunicación\\nDerecho\\nDiseño Gráfico\\nEconomía\\nIng. Comercial\\nIng. Financiera\\nMarketing y Logística\\nPsicología Organizacional\\nArquitectura\\nIng. Civil\\nIng. De la Producción\\nIng. Electromecánica\\nIng. De Sistemas Electrónicos y de Telecomunicaciones\\nIng. Industrial y de Sistemas\\nIng. Petrolera y Gas Natural\\nIng. De Sistemas Computacionales\\nIng. Del Medio Ambiente y Energías Alternativas\\n',\n",
        "            '¿Cuánto cuesta la mensualidad?',\n",
        "            'Los pagos se dividen en dos partes:\\nMatrícula: 2184 bs\\nColegiatura: Se realizan cinco pagos de 3072 bs aproximadamente',\n",
        "            '¿Cuánto es el monto de la mensualidad?',\n",
        "            'Los pagos se dividen en dos partes:\\nMatrícula: 2184 bs\\nColegiatura: Se realizan cinco pagos de 3072 bs aproximadamente',\n",
        "            '¿Cuánto es la colegiatura?',\n",
        "            'Los pagos se dividen en dos partes:\\nMatrícula: 2184 bs\\nColegiatura: Se realizan cinco pagos de 3072 bs aproximadamente',\n",
        "            '¿El pre universitario es obligatorio?',\n",
        "            'El preuniversitario es obligatorio, debes hacerlo porque te permite nivelarte para pasar materias de semestre',\n",
        "            '¿El pre universitario es necesario?',\n",
        "            'El preuniversitario es obligatorio, debes hacerlo porque te permite nivelarte para pasar materias de semestre',\n",
        "            '¿Qué preuniversitarios hay?',\n",
        "            'Depende de tu carrera. Tenemos los pre universitarios de:\\nMatemáticas\\nFísica\\nQuímica\\nTaller de Creatividad\\nTaller de Lenguaje\\nTaller de la Conducta Humana',\n",
        "            '¿Cuales son los preuniversitarios?',\n",
        "            'Depende de tu carrera. Tenemos los pre universitarios de:\\nMatemáticas\\nFísica\\nQuímica\\nTaller de Creatividad\\nTaller de Lenguaje\\nTaller de la Conducta Humana',\n",
        "            '¿Cuánto cuestan los preuniversitarios?',\n",
        "            'Los preuniversitarios cuestan: Matemáticas: 640 bs\\nFísica: 320 bs\\nQuímica: 320 bs\\nTaller de Creatividad: 320 bs\\nTaller de Lenguaje: 320 bs\\nTaller de la Conducta Humana: 320 bs',\n",
        "            '¿Cuánto se debe pagar por los preuniversitarios?',\n",
        "            'Los preuniversitarios cuestan: Matemáticas: 640 bs\\nFísica: 320 bs\\nQuímica: 320 bs\\nTaller de Creatividad: 320 bs\\nTaller de Lenguaje: 320 bs\\nTaller de la Conducta Humana: 320 bs',\n",
        "            '¿Tienen programas de becas?',\n",
        "            'Tenemos diferentes programas de beca a los que puedes postular.',\n",
        "            '¿Como funcionan las becas?',\n",
        "            'Tenemos diferentes programas de beca a los que puedes postular.',\n",
        "            '¿Qué es la PAA?',\n",
        "            'PAA es el examen de admisión que mide tres áreas:\\nRazonamiento Verbal\\nRazonamiento Matemático\\nRedacción Indirecta',\n",
        "            '¿En que consiste el PAA?',\n",
        "            'PAA es el examen de admisión que mide tres áreas:\\nRazonamiento Verbal\\nRazonamiento Matemático\\nRedacción Indirecta',\n",
        "            '¿Cuál es el puntaje que debo obtener en el examen PAA?',\n",
        "            'El puntaje mínimo en el PAA es de 1050/1600 puntos para ser admitido en la universidad',\n",
        "            '¿Cuál es el puntaje para aprobar el PAA?',\n",
        "            'El puntaje mínimo en el PAA es de 1050/1600 puntos para ser admitido en la universidad',\n",
        "            '¿Que puntaje necesito en el PAA?',\n",
        "            'El puntaje mínimo en el PAA es de 1050/1600 puntos para ser admitido en la universidad',\n",
        "            '¿Cuánto cuesta el PAA?',\n",
        "            'El PAA cuesta 120 bs',\n",
        "            '¿Cuánto es el monto de el PAA?',\n",
        "            'El PAA cuesta 120 bs',\n",
        "            '¿Tienen programas de intercambio?',\n",
        "            'Tenemos diferentes programas de intercambio con más de 300 universidades en el mundo',\n",
        "            '¿Como funcionan los intercambios?',\n",
        "            'Tenemos diferentes programas de intercambio con más de 300 universidades en el mundo',\n",
        "            '¿Cuándo inician las inscripciones?',\n",
        "            'Gracias al sistema modular, la UPB inicia inscripciones cada mes',\n",
        "            '¿Como funcionan las inscripciones?',\n",
        "            'Gracias al sistema modular, la UPB inicia inscripciones cada mes',\n",
        "            '¿Dónde está ubicado el campus?',\n",
        "            'El campus en Cochabamba se encuentra por la avenida Victor Ustariz',\n",
        "            '¿Dónde está el campus?',\n",
        "            'El campus en Cochabamba se encuentra por la avenida Victor Ustariz',\n",
        "            '¿Cuentan con servicio de transporte?',\n",
        "            'El servicio esta disponible en diferentes rutas que abarcan las diferentes zonas de Cochabamba',\n",
        "            '¿Tienen transporte?',\n",
        "            'El servicio esta disponible en diferentes rutas que abarcan las diferentes zonas de Cochabamba',\n",
        "]\n",
        "\n"
      ],
      "execution_count": 24,
      "outputs": []
    },
    {
      "cell_type": "code",
      "metadata": {
        "id": "74mgUh-0IujT"
      },
      "source": [
        "# Creamos el chat bot usando la clase generica ChatBot()\n",
        "chatbot = ChatBot(\n",
        "    \"UPBot\", # Nombre del chatbot\n",
        "    storage_adapter=\"chatterbot.storage.SQLStorageAdapter\", # Tipo de almacenamiento, usamos el normal ya que satisface el limite del proyecto\n",
        "    logic_adapters=[\n",
        "        {\n",
        "            'import_path': 'chatterbot.logic.BestMatch',  # Es necesario este adaptador para que se pueda elegir respuestas que sean un mejor match dado el input\n",
        "            'default_response': 'No entiendo lo que estas preguntando, reformula tu pregunta por favor', # Utilizamos default response para dar una respuesta por defecto en caso de que los adapatadores logicos no encuentren un nivel de confidencia apropiado\n",
        "            'maximum_similarity_threshold': 0.95 #Limite de similaridad para con la respuesta a dar \n",
        "        }\n",
        "    ],\n",
        "    preprocessors=[ # Preprocesamos el input dado para que sea mas facil de encontrar una respuesta apropiada\n",
        "        'chatterbot.preprocessors.clean_whitespace', # Eliminamos los espacios en blancos\n",
        "        'chatterbot.preprocessors.convert_to_ascii' # Convertimos caracteres no comunes a ASCII\n",
        "    ])"
      ],
      "execution_count": 33,
      "outputs": []
    },
    {
      "cell_type": "code",
      "metadata": {
        "id": "gSRbpZiqI7rN",
        "colab": {
          "base_uri": "https://localhost:8080/"
        },
        "outputId": "a1f10ea2-dbcb-4b00-8b49-71f06d991042"
      },
      "source": [
        "### FASE DE ENTRENAMIENTO CON CORPUS DATA ###\n",
        "\n",
        "# Entrenamos el chatbot con corpus data para que pueda dar respuestas genericas pero racionales\n",
        "corpus_trainer = ChatterBotCorpusTrainer(chatbot)\n",
        "corpus_trainer.train(\"spanish\") # Usamos data en espanol"
      ],
      "execution_count": 34,
      "outputs": [
        {
          "output_type": "stream",
          "text": [
            "Training IA.yml: [####################] 100%\n",
            "Training conversations.yml: [####################] 100%\n",
            "Training greetings.yml: [####################] 100%\n",
            "Training psicologia.yml: [####################] 100%\n"
          ],
          "name": "stdout"
        }
      ]
    },
    {
      "cell_type": "code",
      "metadata": {
        "id": "d4Cd2X2gJTAp",
        "colab": {
          "base_uri": "https://localhost:8080/"
        },
        "outputId": "6d04a064-18d8-4f64-f4ee-0bd9a536d9c2"
      },
      "source": [
        "### FASE DE ENTRENAMIENTO CON DATASETS PROPIOS ###\n",
        "trainer = ListTrainer(chatbot)\n",
        "\n",
        "# Entrenamos nuestro datasets\n",
        "trainer.train(set_ASKS_base)"
      ],
      "execution_count": 35,
      "outputs": [
        {
          "output_type": "stream",
          "text": [
            "List Trainer: [####################] 100%\n"
          ],
          "name": "stdout"
        }
      ]
    },
    {
      "cell_type": "code",
      "metadata": {
        "id": "OY5XBuOfJcl1",
        "colab": {
          "base_uri": "https://localhost:8080/",
          "height": 710
        },
        "outputId": "b283642f-6a39-4dc4-b696-03410f635d31"
      },
      "source": [
        "# Realizamos una interfaz para que el usario pueda preguntar.\n",
        "print(\"Si quieres cortar la conversacion escribe 'salir' \\n\\n\")\n",
        "print(\"Habla a UPBot\")\n",
        "while (True):\n",
        "      \n",
        "    user_input = input()\n",
        "    if (user_input == 's'):\n",
        "        break\n",
        "    response = chatbot.get_response(user_input)\n",
        "    print (\"UPBot:\" , response)"
      ],
      "execution_count": 36,
      "outputs": [
        {
          "output_type": "stream",
          "text": [
            "Si quieres cortar la conversacion escribe 'salir' \n",
            "\n",
            "\n",
            "Habla a UPBot\n",
            "Cuanto cuesta el PAA?\n",
            "UPBot: El PAA cuesta 120 bs\n",
            "Donde esta el campus?\n",
            "UPBot: El campus en Cochabamba se encuentra por la avenida Victor Ustariz\n"
          ],
          "name": "stdout"
        },
        {
          "output_type": "error",
          "ename": "KeyboardInterrupt",
          "evalue": "ignored",
          "traceback": [
            "\u001b[0;31m---------------------------------------------------------------------------\u001b[0m",
            "\u001b[0;31mKeyboardInterrupt\u001b[0m                         Traceback (most recent call last)",
            "\u001b[0;32m/usr/local/lib/python3.7/dist-packages/ipykernel/kernelbase.py\u001b[0m in \u001b[0;36m_input_request\u001b[0;34m(self, prompt, ident, parent, password)\u001b[0m\n\u001b[1;32m    728\u001b[0m             \u001b[0;32mtry\u001b[0m\u001b[0;34m:\u001b[0m\u001b[0;34m\u001b[0m\u001b[0;34m\u001b[0m\u001b[0m\n\u001b[0;32m--> 729\u001b[0;31m                 \u001b[0mident\u001b[0m\u001b[0;34m,\u001b[0m \u001b[0mreply\u001b[0m \u001b[0;34m=\u001b[0m \u001b[0mself\u001b[0m\u001b[0;34m.\u001b[0m\u001b[0msession\u001b[0m\u001b[0;34m.\u001b[0m\u001b[0mrecv\u001b[0m\u001b[0;34m(\u001b[0m\u001b[0mself\u001b[0m\u001b[0;34m.\u001b[0m\u001b[0mstdin_socket\u001b[0m\u001b[0;34m,\u001b[0m \u001b[0;36m0\u001b[0m\u001b[0;34m)\u001b[0m\u001b[0;34m\u001b[0m\u001b[0;34m\u001b[0m\u001b[0m\n\u001b[0m\u001b[1;32m    730\u001b[0m             \u001b[0;32mexcept\u001b[0m \u001b[0mException\u001b[0m\u001b[0;34m:\u001b[0m\u001b[0;34m\u001b[0m\u001b[0;34m\u001b[0m\u001b[0m\n",
            "\u001b[0;32m/usr/local/lib/python3.7/dist-packages/jupyter_client/session.py\u001b[0m in \u001b[0;36mrecv\u001b[0;34m(self, socket, mode, content, copy)\u001b[0m\n\u001b[1;32m    802\u001b[0m         \u001b[0;32mtry\u001b[0m\u001b[0;34m:\u001b[0m\u001b[0;34m\u001b[0m\u001b[0;34m\u001b[0m\u001b[0m\n\u001b[0;32m--> 803\u001b[0;31m             \u001b[0mmsg_list\u001b[0m \u001b[0;34m=\u001b[0m \u001b[0msocket\u001b[0m\u001b[0;34m.\u001b[0m\u001b[0mrecv_multipart\u001b[0m\u001b[0;34m(\u001b[0m\u001b[0mmode\u001b[0m\u001b[0;34m,\u001b[0m \u001b[0mcopy\u001b[0m\u001b[0;34m=\u001b[0m\u001b[0mcopy\u001b[0m\u001b[0;34m)\u001b[0m\u001b[0;34m\u001b[0m\u001b[0;34m\u001b[0m\u001b[0m\n\u001b[0m\u001b[1;32m    804\u001b[0m         \u001b[0;32mexcept\u001b[0m \u001b[0mzmq\u001b[0m\u001b[0;34m.\u001b[0m\u001b[0mZMQError\u001b[0m \u001b[0;32mas\u001b[0m \u001b[0me\u001b[0m\u001b[0;34m:\u001b[0m\u001b[0;34m\u001b[0m\u001b[0;34m\u001b[0m\u001b[0m\n",
            "\u001b[0;32m/usr/local/lib/python3.7/dist-packages/zmq/sugar/socket.py\u001b[0m in \u001b[0;36mrecv_multipart\u001b[0;34m(self, flags, copy, track)\u001b[0m\n\u001b[1;32m    582\u001b[0m         \"\"\"\n\u001b[0;32m--> 583\u001b[0;31m         \u001b[0mparts\u001b[0m \u001b[0;34m=\u001b[0m \u001b[0;34m[\u001b[0m\u001b[0mself\u001b[0m\u001b[0;34m.\u001b[0m\u001b[0mrecv\u001b[0m\u001b[0;34m(\u001b[0m\u001b[0mflags\u001b[0m\u001b[0;34m,\u001b[0m \u001b[0mcopy\u001b[0m\u001b[0;34m=\u001b[0m\u001b[0mcopy\u001b[0m\u001b[0;34m,\u001b[0m \u001b[0mtrack\u001b[0m\u001b[0;34m=\u001b[0m\u001b[0mtrack\u001b[0m\u001b[0;34m)\u001b[0m\u001b[0;34m]\u001b[0m\u001b[0;34m\u001b[0m\u001b[0;34m\u001b[0m\u001b[0m\n\u001b[0m\u001b[1;32m    584\u001b[0m         \u001b[0;31m# have first part already, only loop while more to receive\u001b[0m\u001b[0;34m\u001b[0m\u001b[0;34m\u001b[0m\u001b[0;34m\u001b[0m\u001b[0m\n",
            "\u001b[0;32mzmq/backend/cython/socket.pyx\u001b[0m in \u001b[0;36mzmq.backend.cython.socket.Socket.recv\u001b[0;34m()\u001b[0m\n",
            "\u001b[0;32mzmq/backend/cython/socket.pyx\u001b[0m in \u001b[0;36mzmq.backend.cython.socket.Socket.recv\u001b[0;34m()\u001b[0m\n",
            "\u001b[0;32mzmq/backend/cython/socket.pyx\u001b[0m in \u001b[0;36mzmq.backend.cython.socket._recv_copy\u001b[0;34m()\u001b[0m\n",
            "\u001b[0;32m/usr/local/lib/python3.7/dist-packages/zmq/backend/cython/checkrc.pxd\u001b[0m in \u001b[0;36mzmq.backend.cython.checkrc._check_rc\u001b[0;34m()\u001b[0m\n",
            "\u001b[0;31mKeyboardInterrupt\u001b[0m: ",
            "\nDuring handling of the above exception, another exception occurred:\n",
            "\u001b[0;31mKeyboardInterrupt\u001b[0m                         Traceback (most recent call last)",
            "\u001b[0;32m<ipython-input-36-725ef1dfa26d>\u001b[0m in \u001b[0;36m<module>\u001b[0;34m()\u001b[0m\n\u001b[1;32m      4\u001b[0m \u001b[0;32mwhile\u001b[0m \u001b[0;34m(\u001b[0m\u001b[0;32mTrue\u001b[0m\u001b[0;34m)\u001b[0m\u001b[0;34m:\u001b[0m\u001b[0;34m\u001b[0m\u001b[0;34m\u001b[0m\u001b[0m\n\u001b[1;32m      5\u001b[0m \u001b[0;34m\u001b[0m\u001b[0m\n\u001b[0;32m----> 6\u001b[0;31m     \u001b[0muser_input\u001b[0m \u001b[0;34m=\u001b[0m \u001b[0minput\u001b[0m\u001b[0;34m(\u001b[0m\u001b[0;34m)\u001b[0m\u001b[0;34m\u001b[0m\u001b[0;34m\u001b[0m\u001b[0m\n\u001b[0m\u001b[1;32m      7\u001b[0m     \u001b[0;32mif\u001b[0m \u001b[0;34m(\u001b[0m\u001b[0muser_input\u001b[0m \u001b[0;34m==\u001b[0m \u001b[0;34m's'\u001b[0m\u001b[0;34m)\u001b[0m\u001b[0;34m:\u001b[0m\u001b[0;34m\u001b[0m\u001b[0;34m\u001b[0m\u001b[0m\n\u001b[1;32m      8\u001b[0m         \u001b[0;32mbreak\u001b[0m\u001b[0;34m\u001b[0m\u001b[0;34m\u001b[0m\u001b[0m\n",
            "\u001b[0;32m/usr/local/lib/python3.7/dist-packages/ipykernel/kernelbase.py\u001b[0m in \u001b[0;36mraw_input\u001b[0;34m(self, prompt)\u001b[0m\n\u001b[1;32m    702\u001b[0m             \u001b[0mself\u001b[0m\u001b[0;34m.\u001b[0m\u001b[0m_parent_ident\u001b[0m\u001b[0;34m,\u001b[0m\u001b[0;34m\u001b[0m\u001b[0;34m\u001b[0m\u001b[0m\n\u001b[1;32m    703\u001b[0m             \u001b[0mself\u001b[0m\u001b[0;34m.\u001b[0m\u001b[0m_parent_header\u001b[0m\u001b[0;34m,\u001b[0m\u001b[0;34m\u001b[0m\u001b[0;34m\u001b[0m\u001b[0m\n\u001b[0;32m--> 704\u001b[0;31m             \u001b[0mpassword\u001b[0m\u001b[0;34m=\u001b[0m\u001b[0;32mFalse\u001b[0m\u001b[0;34m,\u001b[0m\u001b[0;34m\u001b[0m\u001b[0;34m\u001b[0m\u001b[0m\n\u001b[0m\u001b[1;32m    705\u001b[0m         )\n\u001b[1;32m    706\u001b[0m \u001b[0;34m\u001b[0m\u001b[0m\n",
            "\u001b[0;32m/usr/local/lib/python3.7/dist-packages/ipykernel/kernelbase.py\u001b[0m in \u001b[0;36m_input_request\u001b[0;34m(self, prompt, ident, parent, password)\u001b[0m\n\u001b[1;32m    732\u001b[0m             \u001b[0;32mexcept\u001b[0m \u001b[0mKeyboardInterrupt\u001b[0m\u001b[0;34m:\u001b[0m\u001b[0;34m\u001b[0m\u001b[0;34m\u001b[0m\u001b[0m\n\u001b[1;32m    733\u001b[0m                 \u001b[0;31m# re-raise KeyboardInterrupt, to truncate traceback\u001b[0m\u001b[0;34m\u001b[0m\u001b[0;34m\u001b[0m\u001b[0;34m\u001b[0m\u001b[0m\n\u001b[0;32m--> 734\u001b[0;31m                 \u001b[0;32mraise\u001b[0m \u001b[0mKeyboardInterrupt\u001b[0m\u001b[0;34m\u001b[0m\u001b[0;34m\u001b[0m\u001b[0m\n\u001b[0m\u001b[1;32m    735\u001b[0m             \u001b[0;32melse\u001b[0m\u001b[0;34m:\u001b[0m\u001b[0;34m\u001b[0m\u001b[0;34m\u001b[0m\u001b[0m\n\u001b[1;32m    736\u001b[0m                 \u001b[0;32mbreak\u001b[0m\u001b[0;34m\u001b[0m\u001b[0;34m\u001b[0m\u001b[0m\n",
            "\u001b[0;31mKeyboardInterrupt\u001b[0m: "
          ]
        }
      ]
    },
    {
      "cell_type": "code",
      "metadata": {
        "id": "FGTE5C3aOVyb"
      },
      "source": [
        ""
      ],
      "execution_count": null,
      "outputs": []
    }
  ]
}