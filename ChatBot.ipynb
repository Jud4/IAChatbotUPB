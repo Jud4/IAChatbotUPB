{
  "nbformat": 4,
  "nbformat_minor": 0,
  "metadata": {
    "colab": {
      "name": "ChatBot.ipynb",
      "provenance": [],
      "collapsed_sections": [],
      "include_colab_link": true
    },
    "kernelspec": {
      "name": "python3",
      "display_name": "Python 3"
    },
    "language_info": {
      "name": "python"
    }
  },
  "cells": [
    {
      "cell_type": "markdown",
      "metadata": {
        "id": "view-in-github",
        "colab_type": "text"
      },
      "source": [
        "<a href=\"https://colab.research.google.com/github/Jud4/IAChatbotUPB/blob/develop/ChatBot.ipynb\" target=\"_parent\"><img src=\"https://colab.research.google.com/assets/colab-badge.svg\" alt=\"Open In Colab\"/></a>"
      ]
    },
    {
      "cell_type": "code",
      "metadata": {
        "colab": {
          "base_uri": "https://localhost:8080/",
          "height": 383
        },
        "id": "epdchgbExjr3",
        "outputId": "4db3e4cf-be1c-46aa-c2e1-30aa4420c2b5"
      },
      "source": [
        "from google.colab import drive\n",
        "drive.mount('/content/drive')"
      ],
      "execution_count": 1,
      "outputs": [
        {
          "output_type": "stream",
          "text": [
            "Go to this URL in a browser: https://accounts.google.com/o/oauth2/auth?client_id=947318989803-6bn6qk8qdgf4n4g3pfee6491hc0brc4i.apps.googleusercontent.com&redirect_uri=urn%3aietf%3awg%3aoauth%3a2.0%3aoob&scope=email%20https%3a%2f%2fwww.googleapis.com%2fauth%2fdocs.test%20https%3a%2f%2fwww.googleapis.com%2fauth%2fdrive%20https%3a%2f%2fwww.googleapis.com%2fauth%2fdrive.photos.readonly%20https%3a%2f%2fwww.googleapis.com%2fauth%2fpeopleapi.readonly%20https%3a%2f%2fwww.googleapis.com%2fauth%2fdrive.activity.readonly%20https%3a%2f%2fwww.googleapis.com%2fauth%2fexperimentsandconfigs%20https%3a%2f%2fwww.googleapis.com%2fauth%2fphotos.native&response_type=code\n",
            "\n",
            "Enter your authorization code:\n",
            "\n"
          ],
          "name": "stdout"
        },
        {
          "output_type": "error",
          "ename": "ValueError",
          "evalue": "ignored",
          "traceback": [
            "\u001b[0;31m---------------------------------------------------------------------------\u001b[0m",
            "\u001b[0;31mValueError\u001b[0m                                Traceback (most recent call last)",
            "\u001b[0;32m<ipython-input-1-d5df0069828e>\u001b[0m in \u001b[0;36m<module>\u001b[0;34m()\u001b[0m\n\u001b[1;32m      1\u001b[0m \u001b[0;32mfrom\u001b[0m \u001b[0mgoogle\u001b[0m\u001b[0;34m.\u001b[0m\u001b[0mcolab\u001b[0m \u001b[0;32mimport\u001b[0m \u001b[0mdrive\u001b[0m\u001b[0;34m\u001b[0m\u001b[0;34m\u001b[0m\u001b[0m\n\u001b[0;32m----> 2\u001b[0;31m \u001b[0mdrive\u001b[0m\u001b[0;34m.\u001b[0m\u001b[0mmount\u001b[0m\u001b[0;34m(\u001b[0m\u001b[0;34m'/content/drive'\u001b[0m\u001b[0;34m)\u001b[0m\u001b[0;34m\u001b[0m\u001b[0;34m\u001b[0m\u001b[0m\n\u001b[0m",
            "\u001b[0;32m/usr/local/lib/python3.7/dist-packages/google/colab/drive.py\u001b[0m in \u001b[0;36mmount\u001b[0;34m(mountpoint, force_remount, timeout_ms, use_metadata_server)\u001b[0m\n\u001b[1;32m    261\u001b[0m       \u001b[0mwrote_to_fifo\u001b[0m \u001b[0;34m=\u001b[0m \u001b[0;32mTrue\u001b[0m\u001b[0;34m\u001b[0m\u001b[0;34m\u001b[0m\u001b[0m\n\u001b[1;32m    262\u001b[0m     \u001b[0;32melif\u001b[0m \u001b[0mcase\u001b[0m \u001b[0;34m==\u001b[0m \u001b[0;36m5\u001b[0m\u001b[0;34m:\u001b[0m\u001b[0;34m\u001b[0m\u001b[0;34m\u001b[0m\u001b[0m\n\u001b[0;32m--> 263\u001b[0;31m       \u001b[0;32mraise\u001b[0m \u001b[0mValueError\u001b[0m\u001b[0;34m(\u001b[0m\u001b[0;34m'mount failed: invalid oauth code'\u001b[0m\u001b[0;34m)\u001b[0m\u001b[0;34m\u001b[0m\u001b[0;34m\u001b[0m\u001b[0m\n\u001b[0m\u001b[1;32m    264\u001b[0m     \u001b[0;32melif\u001b[0m \u001b[0mcase\u001b[0m \u001b[0;34m==\u001b[0m \u001b[0;36m6\u001b[0m\u001b[0;34m:\u001b[0m\u001b[0;34m\u001b[0m\u001b[0;34m\u001b[0m\u001b[0m\n\u001b[1;32m    265\u001b[0m       \u001b[0;31m# Terminate the DriveFS binary before killing bash.\u001b[0m\u001b[0;34m\u001b[0m\u001b[0;34m\u001b[0m\u001b[0;34m\u001b[0m\u001b[0m\n",
            "\u001b[0;31mValueError\u001b[0m: mount failed: invalid oauth code"
          ]
        }
      ]
    },
    {
      "cell_type": "code",
      "metadata": {
        "id": "x4gfz45_74AG",
        "colab": {
          "base_uri": "https://localhost:8080/"
        },
        "outputId": "29c4b71d-dc92-430d-e472-9c32cf0158a9"
      },
      "source": [
        "#Instalamos paquetes necesarios\n",
        "!pip install chatterbot"
      ],
      "execution_count": 3,
      "outputs": [
        {
          "output_type": "stream",
          "text": [
            "Collecting chatterbot\n",
            "\u001b[?25l  Downloading https://files.pythonhosted.org/packages/7c/21/85c2b114bd9dfabdd46ba58fc4519acdaed45d8c70898d40079e37a45e67/ChatterBot-1.0.8-py2.py3-none-any.whl (63kB)\n",
            "\r\u001b[K     |█████▏                          | 10kB 9.2MB/s eta 0:00:01\r\u001b[K     |██████████▎                     | 20kB 14.0MB/s eta 0:00:01\r\u001b[K     |███████████████▌                | 30kB 18.1MB/s eta 0:00:01\r\u001b[K     |████████████████████▋           | 40kB 21.0MB/s eta 0:00:01\r\u001b[K     |█████████████████████████▊      | 51kB 23.3MB/s eta 0:00:01\r\u001b[K     |███████████████████████████████ | 61kB 25.5MB/s eta 0:00:01\r\u001b[K     |████████████████████████████████| 71kB 6.4MB/s \n",
            "\u001b[?25hRequirement already satisfied: python-dateutil<2.9,>=2.8 in /usr/local/lib/python3.7/dist-packages (from chatterbot) (2.8.1)\n",
            "Collecting sqlalchemy<1.4,>=1.3\n",
            "\u001b[?25l  Downloading https://files.pythonhosted.org/packages/31/44/a86070dda790ce94cd7d9fb9281cd614c7d30850ed774ace9a84d0d5d491/SQLAlchemy-1.3.24-cp37-cp37m-manylinux2010_x86_64.whl (1.3MB)\n",
            "\u001b[K     |████████████████████████████████| 1.3MB 20.9MB/s \n",
            "\u001b[?25hRequirement already satisfied: pytz in /usr/local/lib/python3.7/dist-packages (from chatterbot) (2018.9)\n",
            "Collecting mathparse<0.2,>=0.1\n",
            "  Downloading https://files.pythonhosted.org/packages/c3/e5/4910fb85950cb960fcf3f5aabe1c8e55f5c9201788a1c1302b570a7e1f84/mathparse-0.1.2-py3-none-any.whl\n",
            "Requirement already satisfied: six>=1.5 in /usr/local/lib/python3.7/dist-packages (from python-dateutil<2.9,>=2.8->chatterbot) (1.15.0)\n",
            "Installing collected packages: sqlalchemy, mathparse, chatterbot\n",
            "  Found existing installation: SQLAlchemy 1.4.7\n",
            "    Uninstalling SQLAlchemy-1.4.7:\n",
            "      Successfully uninstalled SQLAlchemy-1.4.7\n",
            "Successfully installed chatterbot-1.0.8 mathparse-0.1.2 sqlalchemy-1.3.24\n"
          ],
          "name": "stdout"
        }
      ]
    },
    {
      "cell_type": "code",
      "metadata": {
        "id": "xzp7hANOud9u"
      },
      "source": [
        "# Importamos dependencias necesarias\n",
        "from chatterbot import ChatBot  # Clase general para crear un chatbot\n",
        "from chatterbot.trainers import ListTrainer # Usamos un list trainer para entrenar nuestro propios datasets en formato de lista\n",
        "from chatterbot.trainers import ChatterBotCorpusTrainer # Usamos un corpus para poder entrenar nuestro bot con datasets grandes y con conversaciones genericas\n",
        "from chatterbot.response_selection import get_first_response # Se usara esta libreria para elegir siempre la primera respuesta acorde a un input"
      ],
      "execution_count": 4,
      "outputs": []
    },
    {
      "cell_type": "code",
      "metadata": {
        "id": "-Fs1Y-LOIUOe"
      },
      "source": [
        "# Creacion de dataset propio acorde a la propuesta\n",
        "\n",
        "basicConv = [\n",
        "  \"Hello there\",\n",
        "  \"Hi!! I am UPBot\",\n",
        "  \"What is your purpose\",\n",
        "  \"I am the chatbot from the UPB university and I am here to help you.\"         \n",
        "  ]"
      ],
      "execution_count": 5,
      "outputs": []
    },
    {
      "cell_type": "code",
      "metadata": {
        "id": "74mgUh-0IujT",
        "colab": {
          "base_uri": "https://localhost:8080/",
          "height": 145
        },
        "outputId": "0230f5b0-728c-44db-b57d-4d6c44bc3256"
      },
      "source": [
        "# Creamos el chat bot usando la clase generica ChatBot()\n",
        "chatbot = ChatBot(\n",
        "    \"UPBot\", # Nombre del chatbot\n",
        "    storage_adapter=\"chatterbot.storage.SQLStorageAdapter\", # Tipo de almacenamiento, usamos el normal ya que satisface el limite del proyecto\n",
        "    logic_adapters=[\n",
        "        'chatterbot.logic.MathematicalEvaluation', # Elegimos este tipo de adaptador para que el bot pueda responder a preguntas relacionadas con matematicas\n",
        "        #'chatterbot.logic.TimeLogicAdapter', # Elegimos este tipo de adaptador para que el bot pueda responder a preguntas relacionadas con el tiempo\n",
        "        'chatterbot.logic.BestMatch',  # Es necesario este adaptador para que se pueda elegir respuestas que sean un mejor match dado el input\n",
        "        'default_response': \"No entiendo lo que estas preguntando, reformula tu pregunta por favor\", # Utilizamos default response para dar una respuesta por defecto en caso de que los adapatadores logicos no encuentren un nivel de confidencia apropiado\n",
        "        'maximum_similarity_threshold': 0.90 #Limite de similaridad para con la respuesta a dar \n",
        "\n",
        "    ],\n",
        "    preprocessors=[ # Preprocesamos el input dado para que sea mas facil de encontrar una respuesta apropiada\n",
        "        'chatterbot.preprocessors.clean_whitespace', # Eliminamos los espacios en blancos\n",
        "        'chatterbot.preprocessors.convert_to_ascii' # Convertimos caracteres no comunes a ASCII\n",
        "    ],\n",
        "    response_selection_method=get_first_response) # Obtener la primera respuesta"
      ],
      "execution_count": 6,
      "outputs": [
        {
          "output_type": "error",
          "ename": "SyntaxError",
          "evalue": "ignored",
          "traceback": [
            "\u001b[0;36m  File \u001b[0;32m\"<ipython-input-6-d4afebfc7d19>\"\u001b[0;36m, line \u001b[0;32m9\u001b[0m\n\u001b[0;31m    'default_response': \"No entiendo lo que estas preguntando, reformula tu pregunta por favor\", # Utilizamos default response para dar una respuesta por defecto en caso de que los adapatadores logicos no encuentren un nivel de confidencia apropiado\u001b[0m\n\u001b[0m                      ^\u001b[0m\n\u001b[0;31mSyntaxError\u001b[0m\u001b[0;31m:\u001b[0m invalid syntax\n"
          ]
        }
      ]
    },
    {
      "cell_type": "code",
      "metadata": {
        "id": "gSRbpZiqI7rN",
        "colab": {
          "base_uri": "https://localhost:8080/",
          "height": 212
        },
        "outputId": "587195ab-c387-471f-9913-ce4466c14902"
      },
      "source": [
        "### FASE DE ENTRENAMIENTO CON CORPUS DATA ###\n",
        "\n",
        "# Entrenamos el chatbot con corpus data para que pueda dar respuestas genericas pero racionales\n",
        "corpus_trainer = ChatterBotCorpusTrainer(chatbot)\n",
        "corpus_trainer.train(\"spanish\") # Usamos data en espanol"
      ],
      "execution_count": 7,
      "outputs": [
        {
          "output_type": "error",
          "ename": "NameError",
          "evalue": "ignored",
          "traceback": [
            "\u001b[0;31m---------------------------------------------------------------------------\u001b[0m",
            "\u001b[0;31mNameError\u001b[0m                                 Traceback (most recent call last)",
            "\u001b[0;32m<ipython-input-7-869f7d2d2038>\u001b[0m in \u001b[0;36m<module>\u001b[0;34m()\u001b[0m\n\u001b[1;32m      2\u001b[0m \u001b[0;34m\u001b[0m\u001b[0m\n\u001b[1;32m      3\u001b[0m \u001b[0;31m# Entrenamos el chatbot con corpus data para que pueda dar respuestas genericas pero racionales\u001b[0m\u001b[0;34m\u001b[0m\u001b[0;34m\u001b[0m\u001b[0;34m\u001b[0m\u001b[0m\n\u001b[0;32m----> 4\u001b[0;31m \u001b[0mcorpus_trainer\u001b[0m \u001b[0;34m=\u001b[0m \u001b[0mChatterBotCorpusTrainer\u001b[0m\u001b[0;34m(\u001b[0m\u001b[0mchatbot\u001b[0m\u001b[0;34m)\u001b[0m\u001b[0;34m\u001b[0m\u001b[0;34m\u001b[0m\u001b[0m\n\u001b[0m\u001b[1;32m      5\u001b[0m \u001b[0mcorpus_trainer\u001b[0m\u001b[0;34m.\u001b[0m\u001b[0mtrain\u001b[0m\u001b[0;34m(\u001b[0m\u001b[0;34m\"spanish\"\u001b[0m\u001b[0;34m)\u001b[0m \u001b[0;31m# Usamos data en espanol\u001b[0m\u001b[0;34m\u001b[0m\u001b[0;34m\u001b[0m\u001b[0m\n",
            "\u001b[0;31mNameError\u001b[0m: name 'chatbot' is not defined"
          ]
        }
      ]
    },
    {
      "cell_type": "code",
      "metadata": {
        "id": "d4Cd2X2gJTAp"
      },
      "source": [
        "### FASE DE ENTRENAMIENTO CON DATASETS PROPIOS ###\n",
        "trainer = ListTrainer(chatbot)\n",
        "\n",
        "# Entrenamos nuestro datasets\n",
        "trainer.train(basicConv)"
      ],
      "execution_count": null,
      "outputs": []
    },
    {
      "cell_type": "code",
      "metadata": {
        "id": "OY5XBuOfJcl1"
      },
      "source": [
        "# Realizamos una interfaz para que el usario pueda preguntar.\n",
        "print(\"If you want to finish the talk type 'quit' \\n\\n\")\n",
        "print(\"Talk to UPBot\")\n",
        "while (True):\n",
        "      \n",
        "    user_input = input()\n",
        "    if (user_input == 'quit'):\n",
        "        break\n",
        "    response = chatbot.get_response(user_input)\n",
        "    print (\"UPBot:\" , response)"
      ],
      "execution_count": null,
      "outputs": []
    },
    {
      "cell_type": "code",
      "metadata": {
        "id": "Y3-9t74J6zby"
      },
      "source": [
        "#Preguntas frecuentes (Mayusculas)\n",
        "set_ASKS_base = [\n",
        "            '¿Qué carreras tiene la universidad?',\n",
        "            'Administración de Empresas\\nComunicación\\nDerecho\\nDiseño Gráfico\\nEconomía\\nIng. Comercial\\nIng. Financiera\\nMarketing y Logística\\nPsicología Organizacional\\nArquitectura\\nIng. Civil\\nIng. De la Producción\\nIng. Electromecánica\\nIng. De Sistemas Electrónicos y de Telecomunicaciones\\nIng. Industrial y de Sistemas\\nIng. Petrolera y Gas Natural\\nIng. De Sistemas Computacionales\\nIng. Del Medio Ambiente y Energías Alternativas\\n',\n",
        "            '¿Cuánto cuesta la mensualidad?',\n",
        "            'Los pagos se dividen en dos partes:\\nMatrícula: 2184 bs\\nColegiatura: Se realizan cinco pagos de 3072 bs aproximadamente',\n",
        "            '¿El pre universitario es obligatorio?',\n",
        "            'Sí, debes hacerlo porque te permite nivelarte para pasar materias de semestre',\n",
        "            '¿Qué preuniversitarios hay?',\n",
        "            'Depende de tu carrera. Tenemos los pre universitarios de:\\nMatemáticas\\nFísica\\nQuímica\\nTaller de Creatividad\\nTaller de Lenguaje\\nTaller de la Conducta Humana',\n",
        "            '¿Cuánto cuestan los preuniversitarios?',\n",
        "            'Matemáticas: 640 bs\\nFísica: 320 bs\\nQuímica: 320 bs\\nTaller de Creatividad: 320 bs\\nTaller de Lenguaje: 320 bs\\nTaller de la Conducta Humana: 320 bs',\n",
        "            '¿Tienen programas de becas?',\n",
        "            'Sí, tenemos diferentes programas a los que puedes postular.',\n",
        "            '¿Qué es la PAA?',\n",
        "            'Es el examen de admisión que mide tres áreas:\\nRazonamiento Verbal\\nRazonamiento Matemático\\nRedacción Indirecta',\n",
        "            '¿Cuál es el puntaje que debo obtener en el examen PAA?',\n",
        "            'El puntaje mínimo es de 1050/1600 puntos para ser admitido en la universidad',\n",
        "            '¿Cuánto cuesta la PAA?',\n",
        "            '120 bs',\n",
        "            '¿Tienen programas de intercambio?',\n",
        "            'Sí. Tenemos diferentes programas con más de 300 universidades en el mundo',\n",
        "            '¿Realizan convalidaciones con otras universidades?',\n",
        "            'Sí',\n",
        "            '¿Cuándo inician las inscripciones?',\n",
        "            'Gracias al sistema modular, la UPB inicia inscripciones cada mes',\n",
        "            '¿Dónde está ubicado el campus?',\n",
        "            'Estamos en Achocalla km 3.5',\n",
        "            '¿Cuentan con servicio de transporte?',\n",
        "            'Sí. Tenemos diferentes rutas que abarcan las diferentes zonas de La Paz'\n",
        "]"
      ],
      "execution_count": 9,
      "outputs": []
    }
  ]
}